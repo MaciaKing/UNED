{
 "cells": [
  {
   "cell_type": "markdown",
   "metadata": {},
   "source": [
    "# Preparación de los Corpus.\n",
    "## Eliminación de cabeceras.\n",
    "Para comenzar con la tarea, es necesario eliminar las cabeceras presentes en cada uno de los corpus, ya que no son relevantes para la generación de nuestros modelos. A continuación, se muestra una imagen en la que se destaca en rojo el formato de la cabecera de uno de los corpus.\n",
    "\n",
    "\n",
    "<div style=\"text-align:center;\">\n",
    "    <img src=\"./images/image_1.png\" alt=\"Descripción de la imagen\" width=\"600\">\n",
    "</div>\n"
   ]
  },
  {
   "cell_type": "markdown",
   "metadata": {},
   "source": [
    "Para comenzar a trabajar en este proceso, primero declararemos una variable llamada CORPUS_MODIFICATION_DONE, que nos permitirá garantizar no sobresciribir sobre los ficheros que ya han sido tratados. Sin esta variable, los archivos de los corpus se sobrescribirían constantemente, pero solo necesitamos hacerlo una vez.\n",
    "\n",
    "Si es la primera vez que se ejecuta este proyecto y las cabeceras aún no han sido eliminadas, se debe establecer el valor de la variable a False."
   ]
  },
  {
   "cell_type": "code",
   "execution_count": 1,
   "metadata": {},
   "outputs": [],
   "source": [
    "CORPUS_MODIFICATION_DONE = True"
   ]
  },
  {
   "cell_type": "markdown",
   "metadata": {},
   "source": [
    "Para comenzar a trabajar con los corpus, es necesario entender la estructura que presentan. En este caso, podemos observar que existen 8 directorios, cada uno de los cuales contiene múltiples archivos. Por lo tanto, debemos recorrer tanto los directorios como los archivos que contienen.\n",
    "\n",
    "<div style=\"text-align:center;\">\n",
    "    <img src=\"./images/image_2.png\" alt=\"Descripción de la imagen\" width=\"600\">\n",
    "</div>\n",
    "\n",
    "\n",
    "A continuación, utilizaremos la librería de Python os, que permite ejecutar comandos en el sistema operativo. Para ello, nos ubicaremos en el directorio /Corpus-representacion y ejecutaremos el comando 'ls' (listar directorios), lo que nos permitirá obtener todos los directorios dentro de Corpus-representacion."
   ]
  },
  {
   "cell_type": "code",
   "execution_count": 2,
   "metadata": {},
   "outputs": [],
   "source": [
    "import os\n",
    "path = os.getcwd() + \"/Corpus-representacion\"\n",
    "# Obtener el listado\n",
    "listado = os.listdir(path)\n",
    "\n",
    "corpus_dir = [] # Guardamos el directorio para cada fichero\n",
    "for elemento in listado:\n",
    "    corpus_dir.append(path +'/'+elemento)"
   ]
  },
  {
   "cell_type": "markdown",
   "metadata": {},
   "source": [
    "Gracias a _**corpus_dir**_, ahora podemos obtener la ruta completa de cada uno de los archivos disponibles. Usaremos la misma técnica: \n",
    "- Entraremos en cada directorio y ejecutaremos nuevamente el comando _**ls**_ (listar) para obtener los archivos. \n",
    "- Para acceder a todos los archivos de manera directa, los almacenaremos en una variable llamada _**all_corpus_files**_. \n",
    "- Al hacerlo, estamos concatenando _**dir + '/' + corpus**_ para obtener la ruta absoluta y poder acceder a los archivos de inmediato."
   ]
  },
  {
   "cell_type": "code",
   "execution_count": 3,
   "metadata": {},
   "outputs": [],
   "source": [
    "all_corpus_files = []\n",
    "for dir in corpus_dir:\n",
    "    corpus_files = os.listdir(dir)\n",
    "    for corpus in corpus_files:\n",
    "        all_corpus_files.append(dir +'/'+corpus)"
   ]
  },
  {
   "cell_type": "markdown",
   "metadata": {},
   "source": [
    "Ahora debemos crear dos funciones auxiliares para leer y escribir en los corpus. La función de lectura no debe ser una función convencional, ya que necesita leer el archivo omitiendo la cabecera."
   ]
  },
  {
   "cell_type": "code",
   "execution_count": 4,
   "metadata": {},
   "outputs": [],
   "source": [
    "def read_file_without_header(filename):\n",
    "    \"\"\"\n",
    "    Lee un fichero y elimina la cabecera antes de devolver su contenido.\n",
    "\n",
    "    Esta función busca la línea que comienza con \"Lines:\", la cual indica el final de la cabecera.\n",
    "    A partir de esa línea, se lee el contenido del fichero, omitiendo las líneas anteriores (la cabecera).\n",
    "\n",
    "    Args:\n",
    "        filename (str): Nombre del fichero a leer.\n",
    "\n",
    "    Returns:\n",
    "        str: El contenido del fichero sin la cabecera.\n",
    "    \"\"\"\n",
    "    with open(filename, \"r\") as archivo:\n",
    "        lineas = archivo.readlines()\n",
    "        start_read_file = False\n",
    "        text_without_header = \"\"\n",
    "        for linea in lineas:\n",
    "            if linea.startswith(\"Lines:\"):\n",
    "                start_read_file = True\n",
    "                continue\n",
    "            if start_read_file:\n",
    "                text_without_header += linea.strip()\n",
    "        return text_without_header\n",
    "\n",
    "def write_file(filename, text):\n",
    "    \"\"\"\n",
    "    Escribe texto en un fichero, sobrescribiendo su contenido existente.\n",
    "    Si el fichero no existe, lo crea.\n",
    "\n",
    "    Args:\n",
    "        filename (str): Nombre del fichero.\n",
    "        text (str): Texto a escribir en el fichero.\n",
    "    \"\"\"\n",
    "    try:\n",
    "        with open(filename, 'w') as file:  # 'w' mode sobrescribe el contenido\n",
    "            file.write(text)  # Escribe el texto proporcionado\n",
    "        print(f\"Texto sobrescrito correctamente en {filename}.\")\n",
    "    except Exception as e:\n",
    "        print(f\"Error al escribir en el fichero: {e}\")\n"
   ]
  },
  {
   "cell_type": "markdown",
   "metadata": {},
   "source": [
    "Ahora que contamos con todos los elementos necesarios, podemos proceder a modificar el corpus. Como recordatorio, habíamos definido la variable __**CORPUS_MODIFICATION_DONE**__ para evitar sobrescribir los archivos que ya han sido procesados.\n",
    "\n",
    "El siguiente paso es simplemente leer el archivo y sobrescribirlo, eliminando las cabeceras."
   ]
  },
  {
   "cell_type": "code",
   "execution_count": 5,
   "metadata": {},
   "outputs": [],
   "source": [
    "if not CORPUS_MODIFICATION_DONE:\n",
    "    for corpus in all_corpus_files:\n",
    "        text_without_header = read_file_without_header(dir +'/'+corpus)\n",
    "        write_file(dir +'/'+corpus, text_without_header)"
   ]
  },
  {
   "cell_type": "markdown",
   "metadata": {},
   "source": [
    "Durante la ejecución del código anterior, hay un único archivo que parecía estar mal configurado, identificado como _**rec.autos/101596**_. En la fotografía se observa que incluso el propio editor de código no logra identificar el error exacto, por lo que los caracteres especiales se han eliminado manualmente.\n",
    "\n",
    "<div style=\"text-align:center;\">\n",
    "    <img src=\"./images/image.png\" alt=\"Descripción de la imagen\" width=\"400\">\n",
    "</div>\n",
    "\n",
    "Después de eliminar manualmente los caracteres previos mostrados en la imagen, el código se ha ejecutado sin ningún error."
   ]
  },
  {
   "cell_type": "markdown",
   "metadata": {},
   "source": [
    "# Tokenización\n",
    "La tokenización es el proceso de dividir un texto en unidades más pequeñas, conocidas como \"tokens\", que pueden ser palabras, frases o incluso caracteres. Este paso es crucial en el procesamiento de lenguaje natural (NLP) para convertir texto no estructurado en una forma que las máquinas puedan entender y analizar. La tokenización permite descomponer un documento en componentes manejables, como palabras individuales o sub-palabras, que posteriormente se utilizan en tareas como clasificación de texto, análisis de sentimientos, traducción automática, entre otras.\n",
    "\n",
    "En el siguiente código, hemos estandarizado la entrada de las palabras eliminando aquellos términos que contienen símbolos como !, :, entre otros caracteres. Además, hemos convertido todos los caracteres a minúsculas, ya que esto mejorará el rendimiento de nuestro algoritmo. También hemos añadido un delimitador **@@@** al final de cada documento; en los pasos posteriores explicaremos el motivo de utilizar estos delimitadores."
   ]
  },
  {
   "cell_type": "code",
   "execution_count": 6,
   "metadata": {},
   "outputs": [
    {
     "name": "stdout",
     "output_type": "stream",
     "text": [
      "194669\n",
      "['messageid', 'flax93apr6125933frejteknikumuusereferences', '1993mar30142700543vmshujiacil', 'flax93apr3142133frejteknikumuuseflax93apr5224449frejteknikumuuse1993apr522175928472thundermcrcimmcgilledunntppostinghost', 'frejteknikumuuseinreplyto']\n"
     ]
    }
   ],
   "source": [
    "import re\n",
    "import nltk\n",
    "from nltk.tokenize import word_tokenize\n",
    "\n",
    "words = []\n",
    "for corpus in all_corpus_files:\n",
    "    f = open(corpus)\n",
    "    raw = f.read()\n",
    "    # make all words to lowercase and remove specials characters\n",
    "    raw = re.sub(r'[^\\w\\s]', '', raw.lower())\n",
    "\n",
    "    all_file = word_tokenize(raw)\n",
    "    for word in all_file:\n",
    "        words.append(word)\n",
    "    words.append('@@@')\n",
    "\n",
    "print(len(words))\n",
    "print(words[0:5])\n"
   ]
  },
  {
   "cell_type": "markdown",
   "metadata": {},
   "source": [
    "Observamos que contamos con un total de 194,669 palabras. Sin embargo, aún queda trabajo por hacer en el filtrado de estas. Al analizar las primeras cinco palabras, notamos que casi ninguna tiene sentido, lo que refleja que, dentro del propio corpus, existen términos que no serán relevantes o útiles.\n",
    "\n",
    "Comenzaremos filtrando las palabras que contengan números, ya que, según la ejecución de la celda anterior, sabemos que no tienen relevancia en este contexto."
   ]
  },
  {
   "cell_type": "code",
   "execution_count": 7,
   "metadata": {},
   "outputs": [
    {
     "data": {
      "text/plain": [
       "['messageid',\n",
       " 'frejteknikumuuseinreplyto',\n",
       " 'hasanmcrcimmcgilledu',\n",
       " 's',\n",
       " 'message']"
      ]
     },
     "execution_count": 7,
     "metadata": {},
     "output_type": "execute_result"
    }
   ],
   "source": [
    "# remove all words that contain a number\n",
    "bag_of_words = [word for word in words if not re.search(r'\\d', word)]\n",
    "bag_of_words[0:5]"
   ]
  },
  {
   "cell_type": "markdown",
   "metadata": {},
   "source": [
    "Ahora podemos observar que el corpus incluye palabras de una sola letra, como _**s**_, así como otras extremadamente largas que tampoco tienen sentido como _**frejteknikumuuseinreplyto**_. Para abordar esto, aplicaremos un filtro basado en la longitud de las palabras, conservando únicamente aquellas que tengan entre 2 y 15 caracteres.\n",
    "\n",
    "Además, encontramos palabras en inglés como _**I**_ (yo) _**o**_ a que podrían ser relevantes. Estas dos palabras serán las excepciones que aceptaremos en el filtro."
   ]
  },
  {
   "cell_type": "code",
   "execution_count": 8,
   "metadata": {},
   "outputs": [
    {
     "data": {
      "text/plain": [
       "['messageid', 'message', 'of', 'mon', 'apr']"
      ]
     },
     "execution_count": 8,
     "metadata": {},
     "output_type": "execute_result"
    }
   ],
   "source": [
    "# Filtrar palabras según la longitud excepto 'i' y 'a'\n",
    "exceptions = ['i', 'a']\n",
    "bag_of_words = [word for word in bag_of_words if 2 <= len(word) <= 15 or word in exceptions]\n",
    "bag_of_words[0:5]"
   ]
  },
  {
   "cell_type": "markdown",
   "metadata": {},
   "source": [
    "Otro filtro que considero interesante e importante aplicar es verificar si la palabra realmente existe. Por ejemplo, en la ejecución anterior encontramos la palabra _**messageid**_. Esta palabra no aporta información útil, ya que se repite en numerosos corpus y el identificador del mensaje no es relevante en este contexto. Por ello, utilizaré el conjunto de palabras en inglés de NLTK para comprobar la validez de cada término. Si una palabra no está en este conjunto, no tiene sentido conservarla."
   ]
  },
  {
   "cell_type": "code",
   "execution_count": 9,
   "metadata": {},
   "outputs": [
    {
     "data": {
      "text/plain": [
       "['message', 'of', 'mon', 'article', 'stuff']"
      ]
     },
     "execution_count": 9,
     "metadata": {},
     "output_type": "execute_result"
    }
   ],
   "source": [
    "from nltk.corpus import words as nltk_words\n",
    "# nltk.download('words')\n",
    "\n",
    "valid_words = set(nltk_words.words())\n",
    "bag_of_words = [word for word in bag_of_words if word in valid_words or word == '@@@']\n",
    "bag_of_words[0:5]\n"
   ]
  },
  {
   "cell_type": "markdown",
   "metadata": {},
   "source": [
    "Ahora podemos observar que el tamaño inicial del conjunto de palabras se ha reducido significativamente en comparación con el tamaño actual después de aplicar los filtros."
   ]
  },
  {
   "cell_type": "code",
   "execution_count": 10,
   "metadata": {},
   "outputs": [
    {
     "name": "stdout",
     "output_type": "stream",
     "text": [
      "Número de palabras iniciales:  194669\n",
      "Número de palabras actuales: 141582\n"
     ]
    }
   ],
   "source": [
    "print(\"Número de palabras iniciales: \",len(words))\n",
    "print(\"Número de palabras actuales:\",len(bag_of_words))"
   ]
  },
  {
   "cell_type": "markdown",
   "metadata": {},
   "source": [
    "# Stop-Words\n",
    "Las stop-words son palabras comunes y de alta frecuencia en un idioma, como \"el\", \"de\", \"y\", \"a\" en español o \"the\", \"and\", \"is\" en inglés, que generalmente no aportan información significativa al análisis de texto en tareas de procesamiento de lenguaje natural (NLP). Estas palabras suelen ser eliminadas en el preprocesamiento de los datos para reducir el ruido y centrarse en los términos más relevantes para el contexto del problema, como palabras clave o términos específicos.\n",
    "\n",
    "En el contexto de la inteligencia artificial aplicada al lenguaje natural, eliminar las stop-words puede mejorar la eficiencia y precisión de los modelos al reducir la dimensionalidad de los datos y evitar que estas palabras comunes dominen el análisis.\n",
    "\n",
    "Para esto, utilizaré NLTK, que incluye una lista integrada de stopwords. Esta lista nos servirá como referencia para realizar un filtrado eficiente en nuestros textos, eliminando palabras comunes que no aportan valor significativo al análisis."
   ]
  },
  {
   "cell_type": "code",
   "execution_count": 11,
   "metadata": {},
   "outputs": [
    {
     "name": "stdout",
     "output_type": "stream",
     "text": [
      "['paragraph', 'accept', 'title', 'order', 'let', 'get', 'um', 'well', 'debate', 'know', 'master', 'wisdom', 'name', 'consider', 'deserveless', 'unless', 'someone', 'else', 'fact', 'given', 'ask', 'hence', 'term', 'name', 'expect', 'tell', 'tell', 'master', 'insist', 'giving', 'ask', 'could', 'least', 'spell', 'correctly', 'confuse', 'ha', 'ha', 'ha', 'hey']\n",
      "62703\n"
     ]
    }
   ],
   "source": [
    "from nltk.corpus import stopwords\n",
    "\n",
    "stop_words = set(stopwords.words('english'))\n",
    "# numeros, caracteres especiales, palabras que no existen, etc..\n",
    "\n",
    "filtered_bag_of_words = []\n",
    "for word in bag_of_words:\n",
    "    if word not in stop_words:\n",
    "        filtered_bag_of_words.append(word)\n",
    "\n",
    "print(filtered_bag_of_words[10:50])\n",
    "print(len(filtered_bag_of_words))"
   ]
  },
  {
   "cell_type": "markdown",
   "metadata": {},
   "source": [
    "Otra vez, podemos ver que hemos reduzido el tamano de nuestro texto mucho mas."
   ]
  },
  {
   "cell_type": "code",
   "execution_count": 12,
   "metadata": {},
   "outputs": [
    {
     "name": "stdout",
     "output_type": "stream",
     "text": [
      "Número de palabras iniciales:  141582\n",
      "Número de palabras actuales: 62703\n"
     ]
    }
   ],
   "source": [
    "print(\"Número de palabras iniciales: \",len(bag_of_words))\n",
    "print(\"Número de palabras actuales:\",len(filtered_bag_of_words))"
   ]
  },
  {
   "cell_type": "markdown",
   "metadata": {},
   "source": [
    "# Lematización\n",
    "La lematización es un proceso en el procesamiento de lenguaje natural (NLP) que consiste en reducir las palabras a su forma base o \"lema\", teniendo en cuenta su contexto gramatical. A diferencia del stemming, que simplemente recorta los sufijos para aproximarse a la raíz de una palabra, la lematización utiliza reglas lingüísticas y bases de datos de palabras para obtener formas válidas del idioma, como transformar \"corriendo\" en \"correr\" o \"mejores\" en \"mejor\".\n",
    "\n",
    "Este proceso es fundamental en tareas de NLP porque permite normalizar el texto, agrupando palabras con significados similares bajo un mismo lema, lo que mejora la consistencia y precisión en los modelos.\n",
    "\n",
    "Para lograr esto, utilizo las librerías _**wordnet**_ y _**WordNetLemmatizer**_. Crearé una función sencilla que recibirá una palabra y determinará si es un adjetivo, un sustantivo, un verbo o un adverbio. Una vez etiquetada correctamente, _**WordNetLemmatizer**_ podrá aplicar el proceso de lematización de manera precisa según el tipo gramatical de la palabra."
   ]
  },
  {
   "cell_type": "code",
   "execution_count": 13,
   "metadata": {},
   "outputs": [
    {
     "name": "stdout",
     "output_type": "stream",
     "text": [
      "['message', 'mon', 'article', 'stuff', 'write']\n"
     ]
    }
   ],
   "source": [
    "import nltk\n",
    "from nltk.corpus import wordnet\n",
    "from nltk.stem import WordNetLemmatizer\n",
    "\n",
    "# nltk.download('wordnet')\n",
    "# nltk.download('averaged_perceptron_tagger_eng')\n",
    "# nltk.download('pos_tag')\n",
    "\n",
    "# Función para mapear tipos gramaticales\n",
    "def get_wordnet_pos(word):\n",
    "    from nltk.corpus import wordnet\n",
    "    from nltk import pos_tag\n",
    "    \n",
    "    tag = pos_tag([word])[0][1][0].upper()\n",
    "    tag_dict = {\"J\": wordnet.ADJ, \"N\": wordnet.NOUN, \"V\": wordnet.VERB, \"R\": wordnet.ADV}\n",
    "    return tag_dict.get(tag, wordnet.NOUN)\n",
    "\n",
    "# Inicializamos el lematizador\n",
    "lemmatizer = WordNetLemmatizer()\n",
    "\n",
    "# Aplicamos la lematización considerando el tipo gramatical\n",
    "final_bag_of_words = [lemmatizer.lemmatize(word, get_wordnet_pos(word)) for word in filtered_bag_of_words]\n",
    "\n",
    "print(final_bag_of_words[0:5])\n"
   ]
  },
  {
   "cell_type": "markdown",
   "metadata": {},
   "source": [
    "# Funciones de pesado TF y TF-IDF\n",
    "Las funciones de pesado _**TF (Term Frequency)**_ y _**TF-IDF (Term Frequency - Inverse Document Frequency)**_ son técnicas utilizadas en el procesamiento de texto y recuperación de información para evaluar la importancia de una palabra dentro de un conjunto de documentos.\n",
    "\n",
    "_**TF**_ mide la frecuencia con la que aparece una palabra en un documento específico. Se calcula como el número de veces que un término aparece en un documento dividido entre el número total de palabras en ese documento. Esta métrica refleja qué tan relevante es una palabra dentro de un documento en particular.\n",
    "$$\n",
    "TF(t, d) = \\frac{\\text{Número de veces que el término } t \\text{ aparece en el documento } d}{\\text{Número total de términos en el documento } d}\n",
    "$$\n",
    "\n",
    "_**TF-IDF**_ es una extensión de _**TF**_ que no solo considera la frecuencia de una palabra en un documento, sino también su frecuencia en todo el corpus. Se calcula multiplicando el _**TF**_ de una palabra por el _**IDF (Inverse Document Frequency)**_, que es una medida de cuán rara o común es una palabra en todo el corpus. Cuanto más rara sea una palabra en el corpus, mayor será su peso, lo que ayuda a resaltar términos que son importantes en un documento en particular, pero no en muchos otros, mejorando así la relevancia de las palabras clave en tareas como la clasificación de texto y la búsqueda de información.\n",
    "$$\n",
    "TF-IDF(t, d, D) = TF(t, d) \\times \\log \\left( \\frac{|D|}{| \\{ d \\in D : t \\in d \\} |} \\right)\n",
    "$$\n",
    "\n",
    "Es importante recordar que hemos insertado delimitadores @@@ entre los documentos. Esto nos asegura que ahora podemos recuperar los documentos de manera adecuada, ya que contamos con estos delimitadores. Así que, antes de aplicar _**TF**_ y _**TF-IDF**_, procederemos a recuperar los documentos en la forma siguiente:\n",
    "$$\n",
    "documents = [texto_1, texto_2, ..., texto_n]\n",
    "$$\n",
    "\n",
    "Donde:\n",
    "- $ texto_1 $ Es el texto del documento 1.\n",
    "- $ texto_2 $ Es el texto del documento 2.\n",
    "- $ texto_n $ Es el texto del documento n.\n"
   ]
  },
  {
   "cell_type": "code",
   "execution_count": 14,
   "metadata": {},
   "outputs": [
    {
     "name": "stdout",
     "output_type": "stream",
     "text": [
      "Lista de documentos:\n"
     ]
    }
   ],
   "source": [
    "# Inicializar lista para documentos\n",
    "documents = []\n",
    "current_document = []\n",
    "\n",
    "# Procesar cada palabra en final_bag_of_words\n",
    "for word in final_bag_of_words:\n",
    "    if word == '@@@':  # Delimitador encontrado, agregar documento a la lista\n",
    "        documents.append(\" \".join(current_document))  # Unir palabras en una cadena\n",
    "        current_document = []  # Reiniciar el documento\n",
    "    else:\n",
    "        current_document.append(word)\n",
    "\n",
    "# Agregar el último documento si no termina en '@@@'\n",
    "if current_document:\n",
    "    documents.append(\" \".join(current_document))\n",
    "\n",
    "print(\"Lista de documentos:\")\n"
   ]
  },
  {
   "cell_type": "markdown",
   "metadata": {},
   "source": [
    "Si todo el proceso de la celda anterior es correcto, deberíamos obtener como resultado la misma cantidad de documentos que los almacenados en _**all_corpus_files**_, los cuales guardamos previamente en un array. Podemos verificar que la longitud coincide."
   ]
  },
  {
   "cell_type": "code",
   "execution_count": 15,
   "metadata": {},
   "outputs": [
    {
     "name": "stdout",
     "output_type": "stream",
     "text": [
      "Documents:  805  Corpus files:  805\n"
     ]
    }
   ],
   "source": [
    "print(\"Documents: \", len(documents),\" Corpus files: \", len(all_corpus_files))"
   ]
  },
  {
   "cell_type": "markdown",
   "metadata": {},
   "source": [
    "Ahora procederemos a calcular las matrices correspondientes para _**TF**_ y _**TF-IDF**_. Guardaremos el resultado correspondiente en estos ficheros:\n",
    "- _**representaciones/tfidf_representation.json**_\n",
    "- _**representaciones/word2vec_representation.json**_"
   ]
  },
  {
   "cell_type": "code",
   "execution_count": 16,
   "metadata": {},
   "outputs": [
    {
     "name": "stdout",
     "output_type": "stream",
     "text": [
      "TF Matrix Shape: (805, 6151)\n",
      "El shape de la matriz de Word2Vec es:  (27, 100)\n",
      "TF-IDF guardado en representaciones/tfidf_representation.json\n",
      "Word2Vec guardado en representaciones/word2vec_representation.json\n"
     ]
    }
   ],
   "source": [
    "from sklearn.feature_extraction.text import TfidfVectorizer\n",
    "from gensim.models import Word2Vec\n",
    "import json\n",
    "\n",
    "# Generar representaciones\n",
    "# Representación 1: TF-IDF\n",
    "vectorizer = TfidfVectorizer()\n",
    "tfidf_matrix = vectorizer.fit_transform(documents)\n",
    "print(\"TF Matrix Shape:\", tfidf_matrix.shape)\n",
    "\n",
    "# Representación 2: Word2Vec\n",
    "w2v_model = Word2Vec(documents, vector_size=100, window=5, min_count=1, workers=4)\n",
    "word2vec_vectors = {word: w2v_model.wv[word].tolist() for word in w2v_model.wv.index_to_key}\n",
    "\n",
    "# Obtener el número total de palabras y la dimensión de los vectores\n",
    "num_words = len(word2vec_vectors)\n",
    "vector_size = len(next(iter(word2vec_vectors.values())))  # Obtiene la longitud del primer vector\n",
    "\n",
    "# Mostrar el shape\n",
    "shape = (num_words, vector_size)\n",
    "print(\"El shape de la matriz de Word2Vec es: \", shape)\n",
    "\n",
    "# Almacenar las representaciones\n",
    "# Guardar TF-IDF\n",
    "tfidf_file = \"representaciones/tfidf_representation.json\"\n",
    "with open(tfidf_file, 'w') as file:\n",
    "    json.dump(tfidf_matrix.toarray().tolist(), file)\n",
    "\n",
    "# Guardar Word2Vec\n",
    "w2v_file = \"representaciones/word2vec_representation.json\"\n",
    "with open(w2v_file, 'w') as file:\n",
    "    json.dump(word2vec_vectors, file)\n",
    "\n",
    "print(f\"TF-IDF guardado en {tfidf_file}\")\n",
    "print(f\"Word2Vec guardado en {w2v_file}\")\n"
   ]
  },
  {
   "cell_type": "markdown",
   "metadata": {},
   "source": [
    "# El modelo aditivo y el modelo de la media\n",
    "El modelo aditivo y el modelo de la media son dos técnicas utilizadas para combinar representaciones vectoriales de palabras (usadas en modelos como Word2Vec) y generar representaciones de textos más grandes, como frases o documentos. En el modelo aditivo, los vectores de las palabras que componen un texto se suman entre sí, lo que refleja la idea de que el significado de un texto es la acumulación de los significados de las palabras que lo componen. En el modelo de la media, en cambio, se calcula el promedio de los vectores de las palabras, lo que proporciona una representación más equilibrada y menos influenciada por palabras individuales.\n",
    "\n",
    "Estos modelos se utilizan principalmente en tareas de procesamiento de lenguaje natural como clasificación de texto, análisis de sentimientos o búsqueda de información, donde es necesario obtener una representación vectorial de textos de longitud variable a partir de las palabras que los componen. Ambos enfoques permiten realizar comparaciones semánticas entre textos y pueden mejorar la precisión de los modelos que dependen de la comprensión semántica.\n",
    "\n",
    "Para hacer estos modelos necesitamos que nuestros documentes presenten la siguiente forma _**documents = [['texto', 'del', 'documento', '1'], ['texto', 'del', 'documento', '2'], ..., ['texto', 'del', 'documento', 'n']]**_"
   ]
  },
  {
   "cell_type": "code",
   "execution_count": 17,
   "metadata": {},
   "outputs": [
    {
     "name": "stdout",
     "output_type": "stream",
     "text": [
      "[['message', 'mon', 'article', 'stuff', 'write', 'call', 'give', 'title', 'first', 'read', 'paragraph', 'accept', 'title', 'order', 'let', 'get', 'um', 'well', 'debate', 'know', 'master', 'wisdom', 'name', 'consider', 'deserveless', 'unless', 'someone', 'else', 'fact', 'give', 'ask', 'hence', 'term', 'name', 'expect', 'tell', 'tell', 'master', 'insist', 'give', 'ask', 'could', 'least', 'spell', 'correctly', 'confuse', 'ha', 'ha', 'ha', 'hey', 'retard', 'childhood', 'nowhen', 'intentionally', 'important', 'fact', 'whole', 'presence', 'hence', 'illegitimate', 'ground', 'merely', 'whether', 'try', 'retaliate', 'confuse', 'really', 'try', 'spell', 'correctly', 'apologize', 'confuse', 'try', 'repeat', 'live', 'eloquently', 'put', 'human', 'right', 'get', 'back', 'question', 'law', 'use', 'later', 'also', 'question', 'also', 'human', 'statement', 'say', 'existence', 'revoke', 'right', 'life', 'revoke', 'right', 'life', 'right', 'military', 'men', 'clearly', 'occupation', 'war', 'war', 'military', 'fully', 'let', 'rephrase', 'question', 'repeatedly', 'less', 'human', 'post', 'directly', 'question', 'thought', 'together', 'statement', 'assume', 'state', 'statement', 'id', 'like', 'define', 'term', 'dont', 'repeat', 'answer', 'hasan', 'procedure', 'surely', 'human', 'ask', 'withdraw', 'human', 'sorry', 'sentence', 'make', 'sense', 'please', 'rephrase', 'state', 'deprive', 'human', 'tell', 'human', 'living', 'today', 'like', 'oppressive', 'ignorant', 'human', 'name', 'sound', 'familiar', 'maybe', 'bit', 'farfetched', 'old', 'human', 'accord', 'system', 'propose', 'use', 'solve', 'problem', 'question', 'system', 'would', 'solve', 'problem', 'system', 'solve', 'minister', 'kick', 'system', 'use', 'preserve', 'human', 'people', 'involve', 'assume', 'obvious', 'wont', 'repeat', 'mistake', 'eagerly', 'agree', 'solution', 'preserve', 'human', 'understand', 'first', 'statement', 'agree', 'kick', 'probably', 'lead', 'disaster', 'thats', 'solution', 'administrator', 'responsible', 'colonization', 'say', 'best', 'write', 'diary', 'must', 'clear', 'room', 'together', 'country', 'shall', 'achieve', 'goal', 'independent', 'people', 'small', 'country', 'solution', 'least', 'western', 'west', 'jordan', 'river', 'without', 'way', 'transfer', 'transfer', 'one', 'village', 'one', 'tribe', 'left', 'transfer', 'country', 'able', 'absorb', 'million', 'brother', 'way', 'courtesy', 'marc', 'question', 'disregard', 'rather', 'obvious', 'get', 'one', 'way', 'covenant', 'charter', 'thats', 'information', 'id', 'interested', 'translate', 'give', 'credence', 'paper', 'even', 'old', 'go', 'get', 'question', 'write', 'fairly', 'obvious', 'conflict', 'share', 'guess', 'people', 'make', 'last', 'peace', 'region', 'right', 'guess', 'problem', 'full', 'men', 'like', 'met', 'personally', 'read', 'living', 'either', 'know', 'well', 'give', 'answer', 'master', 'wisdom', 'suggest', 'imperialist', 'system', 'problem', 'think', 'fair', 'enough', 'answer', 'since', 'system', 'could', 'solve', 'problem', 'say', 'could', 'use', 'provide', 'write', 'understood', 'meant', 'system', 'use', 'solve', 'conflict', 'system', 'unjust', 'solution', 'would', 'nonsolution', 'per', 'definition', 'say', 'property', 'property', 'either', 'must', 'false', 'guess', 'logic', 'prove', 'first', 'understood', 'meant', 'claim', 'claim', 'contradiction', 'bad', 'master', 'merely', 'point', 'small', 'flaw', 'claim', 'logical', 'felt', 'best', 'point', 'prove', 'point', 'soam', 'assume', 'logical', 'problem', 'rabbi', 'oh', 'way', 'let', 'add', 'cute', 'put', 'end', 'real', 'bummer', 'try', 'give', 'feel', 'ashamed', 'believe', 'believe', 'feel', 'sorry', 'rabbi', 'feel', 'ashamed', 'drop', 'join', 'racist', 'quote', 'especially', 'use', 'stereotype', 'statement', 'individual', 'use', 'credit', 'place', 'way', 'id', 'advice', 'assume', 'anything', 'condemn', 'find', 'vile', 'inhuman', 'ill', 'try', 'assume', 'whole', 'mean', 'state', 'government', 'political', 'religious', 'feel', 'need', 'condemn', 'condemn', 'would', 'feel', 'condemn', 'wherever', 'go']]\n"
     ]
    }
   ],
   "source": [
    "# Preprocesamiento y tokenización\n",
    "def preprocess_and_tokenize(text):\n",
    "    tokens = word_tokenize(text)\n",
    "    return tokens\n",
    "\n",
    "# Aplicar preprocesamiento a todos los documentos\n",
    "tokenized_documents = [preprocess_and_tokenize(doc) for doc in documents]\n",
    "\n",
    "print(tokenized_documents[0:1])\n"
   ]
  },
  {
   "cell_type": "code",
   "execution_count": 18,
   "metadata": {},
   "outputs": [
    {
     "name": "stdout",
     "output_type": "stream",
     "text": [
      "Representación aditiva guardada en representaciones/additive_representation.json\n",
      "Representación de la media guardada en representaciones/mean_representation.json\n"
     ]
    }
   ],
   "source": [
    "import numpy as np\n",
    "\n",
    "# Obtener representaciones a nivel de documento\n",
    "additive_representations = []\n",
    "mean_representations = []\n",
    "\n",
    "for doc in documents:\n",
    "    word_vectors = [w2v_model.wv[word] for word in doc if word in w2v_model.wv]\n",
    "    if word_vectors:\n",
    "        # Modelo aditivo: suma de los vectores\n",
    "        additive_representation = np.sum(word_vectors, axis=0)\n",
    "        additive_representations.append(additive_representation.tolist())\n",
    "        \n",
    "        # Modelo de la media: promedio de los vectores\n",
    "        mean_representation = np.mean(word_vectors, axis=0)\n",
    "        mean_representations.append(mean_representation.tolist())\n",
    "    else:\n",
    "        # En caso de que el documento no tenga palabras en el vocabulario de Word2Vec\n",
    "        additive_representations.append([0] * w2v_model.vector_size)\n",
    "        mean_representations.append([0] * w2v_model.vector_size)\n",
    "\n",
    "# Guardar las representaciones en archivos JSON\n",
    "additive_file = \"representaciones/additive_representation.json\"\n",
    "mean_file = \"representaciones/mean_representation.json\"\n",
    "\n",
    "with open(additive_file, 'w') as file:\n",
    "    json.dump(additive_representations, file)\n",
    "\n",
    "with open(mean_file, 'w') as file:\n",
    "    json.dump(mean_representations, file)\n",
    "\n",
    "print(f\"Representación aditiva guardada en {additive_file}\")\n",
    "print(f\"Representación de la media guardada en {mean_file}\")"
   ]
  },
  {
   "cell_type": "markdown",
   "metadata": {},
   "source": [
    "Verificamos que el número de documentos es el esperado y confirmamos que es correcto."
   ]
  },
  {
   "cell_type": "code",
   "execution_count": 19,
   "metadata": {},
   "outputs": [
    {
     "name": "stdout",
     "output_type": "stream",
     "text": [
      "805\n",
      "805\n"
     ]
    }
   ],
   "source": [
    "print(len(additive_representations))\n",
    "print(len(mean_representations))"
   ]
  },
  {
   "cell_type": "markdown",
   "metadata": {},
   "source": [
    "# Gráficos"
   ]
  },
  {
   "cell_type": "code",
   "execution_count": 20,
   "metadata": {},
   "outputs": [
    {
     "name": "stderr",
     "output_type": "stream",
     "text": [
      "No artists with labels found to put in legend.  Note that artists whose label start with an underscore are ignored when legend() is called with no argument.\n"
     ]
    },
    {
     "data": {
      "image/png": "[encoded data removed]",
      "text/plain": [
       "<Figure size 800x600 with 1 Axes>"
      ]
     },
     "metadata": {},
     "output_type": "display_data"
    }
   ],
   "source": [
    "import matplotlib.pyplot as plt\n",
    "from sklearn.decomposition import PCA\n",
    "\n",
    "# Reducir dimensiones de la matriz TF-IDF a 2D\n",
    "pca = PCA(n_components=2)\n",
    "tfidf_2d = pca.fit_transform(tfidf_matrix.toarray())\n",
    "\n",
    "# Graficar los documentos en el espacio reducido\n",
    "plt.figure(figsize=(8, 6))\n",
    "for  coord in tfidf_2d:\n",
    "    plt.scatter(coord[0], coord[1], color='blue')\n",
    "\n",
    "plt.title(\"Representación de documentos usando TF-IDF\")\n",
    "plt.xlabel(\"Componente principal 1\")\n",
    "plt.ylabel(\"Componente principal 2\")\n",
    "plt.legend()\n",
    "plt.grid()\n",
    "plt.show()\n"
   ]
  },
  {
   "cell_type": "code",
   "execution_count": 21,
   "metadata": {},
   "outputs": [
    {
     "data": {
      "image/png": "[encoded data removed]",
      "text/plain": [
       "<Figure size 1000x800 with 1 Axes>"
      ]
     },
     "metadata": {},
     "output_type": "display_data"
    }
   ],
   "source": [
    "import numpy as np\n",
    "from sklearn.manifold import TSNE\n",
    "import matplotlib.pyplot as plt\n",
    "\n",
    "# Convertir los vectores Word2Vec a un array de NumPy\n",
    "word_vectors = np.array(list(word2vec_vectors.values()))\n",
    "\n",
    "# Reducir dimensiones de los vectores Word2Vec a 2D\n",
    "tsne = TSNE(n_components=2, random_state=42, perplexity=5)\n",
    "w2v_2d = tsne.fit_transform(word_vectors)\n",
    "\n",
    "# Graficar las palabras en el espacio reducido\n",
    "plt.figure(figsize=(10, 8))\n",
    "for i, word in enumerate(word2vec_vectors.keys()):\n",
    "    plt.scatter(w2v_2d[i, 0], w2v_2d[i, 1])\n",
    "\n",
    "plt.title(\"Representación de palabras usando Word2Vec\")\n",
    "plt.xlabel(\"Dimensión 1\")\n",
    "plt.ylabel(\"Dimensión 2\")\n",
    "plt.grid()\n",
    "plt.show()\n"
   ]
  },
  {
   "cell_type": "markdown",
   "metadata": {},
   "source": [
    "# Conclusiones\n",
    "El preprocesamiento del texto es una fase fundamental en el análisis de lenguaje natural, ya que prepara los datos de manera que los modelos puedan interpretar y procesar de forma más eficiente. En este proceso, técnicas como la eliminación de stop-words, la lematización y el filtrado de caracteres irrelevantes son esenciales para reducir el ruido y mejorar la precisión de los modelos. Además, la tokenización y la normalización del texto contribuyen a estandarizar las representaciones de las palabras, lo que permite que los modelos trabajen con datos más coherentes y relevantes.\n",
    "\n",
    "Por otro lado, las técnicas de representación como TF-IDF y Word2Vec permiten transformar el texto en formas que los modelos de aprendizaje automático pueden entender y utilizar. TF-IDF se enfoca en identificar las palabras más relevantes dentro de un documento en relación con todo el corpus, lo que ayuda a resaltar los términos clave y mejora la búsqueda de información y la clasificación de textos. Word2Vec, en cambio, proporciona representaciones densas de las palabras en un espacio semántico continuo, lo que captura mejor las relaciones y similitudes entre palabras, facilitando tareas como el análisis de sentimientos o la traducción automática. Ambas técnicas son poderosas, pero su aplicación depende del tipo de problema y los requisitos específicos del análisis que se desee realizar."
   ]
  }
 ],
 "metadata": {
  "kernelspec": {
   "display_name": "MachineLearning",
   "language": "python",
   "name": "python3"
  },
  "language_info": {
   "codemirror_mode": {
    "name": "ipython",
    "version": 3
   },
   "file_extension": ".py",
   "mimetype": "text/x-python",
   "name": "python",
   "nbconvert_exporter": "python",
   "pygments_lexer": "ipython3",
   "version": "3.10.14"
  }
 },
 "nbformat": 4,
 "nbformat_minor": 2
}
