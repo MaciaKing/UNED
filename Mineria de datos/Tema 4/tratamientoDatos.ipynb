{
 "cells": [
  {
   "cell_type": "markdown",
   "metadata": {},
   "source": [
    "No siempre es bueno, cuanto mas caracterisiticas es mejor, no siempre funciona de la mejor manera."
   ]
  },
  {
   "cell_type": "markdown",
   "metadata": {},
   "source": [
    "# Metricas\n",
    "Hay dos tipos de metricas\n",
    "- Para clasificacion\n",
    "- Para regresion"
   ]
  },
  {
   "cell_type": "code",
   "execution_count": 1,
   "metadata": {},
   "outputs": [],
   "source": [
    "# Problema de clasificacion\n",
    "import pandas as pd\n",
    "import numpy as np\n",
    "names_clas = ['preg', 'plas', 'pres', 'skin', 'test', 'mass', 'pedi', 'age', 'class']\n",
    "df_clas = pd.read_csv('../Datasets/pima-indians-diabetes.csv', names=names_clas)\n",
    "\n",
    "array_clas = df_clas.values\n",
    "X_clas_clas = array_clas[:,0:8]\n",
    "Y_clas_clas = array_clas[:,8]\n"
   ]
  },
  {
   "cell_type": "code",
   "execution_count": 2,
   "metadata": {},
   "outputs": [],
   "source": [
    "# Problema de regresion\n",
    "names_reg = ['CRIM', 'ZN', 'INDUS', 'CHAS', 'NOX', 'RM', 'AGE', 'DIS', 'RAD', 'TAX', 'PTRATIO', 'B', 'LSTAT', 'MEDV']\n",
    "df_res = pd.read_csv('../Datasets/housing.csv', names=names_reg)\n",
    "\n",
    "array_res = df_res.values\n",
    "X_clas_res = array_res[:,0:8]\n",
    "Y_clas_res = array_res[:,8]"
   ]
  },
  {
   "cell_type": "code",
   "execution_count": 3,
   "metadata": {},
   "outputs": [],
   "source": [
    "# # escalamos los datos\n",
    "# from sklearn.preprocessing import StandardScaler\n",
    "\n",
    "# scaler = StandardScaler()\n",
    "# X_clas_scaled = scaler.fit_transform(X_clas)\n",
    "# results = cross_val_score(model, X_clas_scaled, Y_clas, cv=kfold, scoring=scoring)"
   ]
  },
  {
   "cell_type": "markdown",
   "metadata": {},
   "source": [
    "## Accuracy (Porcentaje de acierto)"
   ]
  },
  {
   "cell_type": "code",
   "execution_count": 4,
   "metadata": {},
   "outputs": [
    {
     "name": "stdout",
     "output_type": "stream",
     "text": [
      "Accuracy: 0.7760423786739576 \n"
     ]
    }
   ],
   "source": [
    "from sklearn.model_selection import KFold\n",
    "from sklearn.model_selection import cross_val_score\n",
    "from sklearn.linear_model import LogisticRegression\n",
    "\n",
    "kfold = KFold(n_splits=10)\n",
    "model = LogisticRegression(solver='lbfgs', max_iter=1000)\n",
    "scoring = 'accuracy'\n",
    "results = cross_val_score(model, X_clas_clas, Y_clas_clas, cv=kfold, scoring=scoring)\n",
    "\n",
    "print(f\"Accuracy: {results.mean()} \")"
   ]
  },
  {
   "cell_type": "code",
   "execution_count": 5,
   "metadata": {},
   "outputs": [
    {
     "data": {
      "text/plain": [
       "class\n",
       "0    500\n",
       "1    268\n",
       "dtype: int64"
      ]
     },
     "execution_count": 5,
     "metadata": {},
     "output_type": "execute_result"
    }
   ],
   "source": [
    "df_clas.groupby('class').size()"
   ]
  },
  {
   "cell_type": "markdown",
   "metadata": {},
   "source": [
    "Podemos ver que las clases estan desbalanceadas, por eso sera mejor mirar y evaluarlo con Kappa."
   ]
  },
  {
   "cell_type": "markdown",
   "metadata": {},
   "source": [
    "## Kappa"
   ]
  },
  {
   "cell_type": "code",
   "execution_count": 6,
   "metadata": {},
   "outputs": [
    {
     "name": "stdout",
     "output_type": "stream",
     "text": [
      "Cohens score: 52.42%\n"
     ]
    }
   ],
   "source": [
    "from sklearn.metrics import cohen_kappa_score\n",
    "from sklearn.model_selection import train_test_split\n",
    "\n",
    "test_size = 0.33\n",
    "seed = 7\n",
    "X_train, X_test, Y_train, Y_test = train_test_split(X_clas_clas, Y_clas_clas, test_size=test_size, random_state=seed)\n",
    "\n",
    "model = LogisticRegression(solver='lbfgs', max_iter=1000)\n",
    "model.fit(X_train, Y_train)\n",
    "predicted = model.predict(X_test)\n",
    "cohen_score = cohen_kappa_score(Y_test, predicted)\n",
    "print(f\"Cohens score: {cohen_score*100.0:,.2f}%\")"
   ]
  },
  {
   "cell_type": "markdown",
   "metadata": {},
   "source": [
    "Ahora podemos ver que el cohens score no es tan bueno y podemos ver que el modelo realmente no es muy bueno"
   ]
  },
  {
   "cell_type": "markdown",
   "metadata": {},
   "source": [
    "## Aera bajo la curva de ROC\n",
    "Muy importante para la clasificacion binaria.\n",
    "Un area de 1.0 representa uyn modelo que hizo todas las predicciones perfectamente. Un aerea de 0.5 representa un modelo tan bueno como aleatorio."
   ]
  },
  {
   "cell_type": "code",
   "execution_count": 9,
   "metadata": {},
   "outputs": [
    {
     "name": "stdout",
     "output_type": "stream",
     "text": [
      "AUC: 0.8280277116334988 0.0426362426387057\n"
     ]
    }
   ],
   "source": [
    "# Cross validation Classification ROC AUC\n",
    "kfold = KFold(n_splits=10)\n",
    "model = LogisticRegression(solver='lbfgs', max_iter=1000)\n",
    "scoring = 'roc_auc'\n",
    "results = cross_val_score(model, X_clas_clas, Y_clas_clas, cv=kfold, scoring=scoring)\n",
    "print(f\"AUC: {results.mean()} {results.std()}\")"
   ]
  },
  {
   "cell_type": "markdown",
   "metadata": {},
   "source": [
    "El AUC, es cercano a 1, es decir que no es un mal modelo."
   ]
  },
  {
   "cell_type": "markdown",
   "metadata": {},
   "source": [
    "# Matriz de confusion\n",
    "Es lo mas importante al estar trabajando en un problema de classificacion."
   ]
  },
  {
   "cell_type": "code",
   "execution_count": 10,
   "metadata": {},
   "outputs": [
    {
     "name": "stdout",
     "output_type": "stream",
     "text": [
      "[[142  20]\n",
      " [ 34  58]]\n"
     ]
    }
   ],
   "source": [
    "from sklearn.metrics import confusion_matrix\n",
    "\n",
    "test_size = 0.33\n",
    "seed = 7\n",
    "X_train, X_test, Y_train, Y_test = train_test_split(X_clas_clas, Y_clas_clas, test_size=test_size, random_state=seed)\n",
    "\n",
    "model = LogisticRegression(solver='lbfgs', max_iter=1000)\n",
    "model.fit(X_train, Y_train)\n",
    "predicted = model.predict(X_test)\n",
    "matriz = confusion_matrix(Y_test, predicted)\n",
    "print(matriz)\n"
   ]
  },
  {
   "cell_type": "markdown",
   "metadata": {},
   "source": [
    "- 142 instancias me lo ha predicho correctamente para la clase 0. Sin embargo, 20 instancias me las ha predicho erroneamente como la classe 1 cuando eran de la clase 0.\n",
    "- 58 me las ha predicho como la clase 1 correctamente. Sin embargo, me ha predicho  34 erronias como classe 0, cuando eran de la classe 1"
   ]
  },
  {
   "cell_type": "markdown",
   "metadata": {},
   "source": [
    "Podemos ver que en la segunda clase se ha equivocado mas del 50%, ya que ha fallado 34, por tanto no es un buen modelo."
   ]
  },
  {
   "cell_type": "markdown",
   "metadata": {},
   "source": [
    "# Reporte de clasificacion"
   ]
  }
 ],
 "metadata": {
  "kernelspec": {
   "display_name": "MachineLearning",
   "language": "python",
   "name": "python3"
  },
  "language_info": {
   "codemirror_mode": {
    "name": "ipython",
    "version": 3
   },
   "file_extension": ".py",
   "mimetype": "text/x-python",
   "name": "python",
   "nbconvert_exporter": "python",
   "pygments_lexer": "ipython3",
   "version": "3.10.14"
  }
 },
 "nbformat": 4,
 "nbformat_minor": 2
}
