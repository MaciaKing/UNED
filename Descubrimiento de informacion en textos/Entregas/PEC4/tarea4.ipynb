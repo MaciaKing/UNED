{
 "cells": [
  {
   "cell_type": "markdown",
   "metadata": {},
   "source": [
    "# Cargamos las ejecuciones de la tarea anterior"
   ]
  },
  {
   "cell_type": "code",
   "execution_count": 1,
   "metadata": {},
   "outputs": [],
   "source": [
    "import json\n",
    "import os\n",
    "import pandas as pd\n",
    "import numpy as np"
   ]
  },
  {
   "cell_type": "code",
   "execution_count": 2,
   "metadata": {},
   "outputs": [
    {
     "data": {
      "text/plain": [
       "['/Users/maciasalvasalva/Desktop/UNED/Descubrimiento de informacion en textos/Entregas/PEC3/representaciones/word2vec_representation.json',\n",
       " '/Users/maciasalvasalva/Desktop/UNED/Descubrimiento de informacion en textos/Entregas/PEC3/representaciones/additive_representation.json',\n",
       " '/Users/maciasalvasalva/Desktop/UNED/Descubrimiento de informacion en textos/Entregas/PEC3/representaciones/mean_representation.json',\n",
       " '/Users/maciasalvasalva/Desktop/UNED/Descubrimiento de informacion en textos/Entregas/PEC3/representaciones/tfidf_representation.json']"
      ]
     },
     "execution_count": 2,
     "metadata": {},
     "output_type": "execute_result"
    }
   ],
   "source": [
    "os.chdir(\"../PEC3/representaciones\")\n",
    "path = os.getcwd()\n",
    "representations_files = []\n",
    "for file in os.listdir(path):\n",
    "    representations_files.append(path + \"/\"+file)\n",
    "representations_files"
   ]
  },
  {
   "cell_type": "code",
   "execution_count": 3,
   "metadata": {},
   "outputs": [],
   "source": [
    "def load_json(file_path):\n",
    "    with open(file_path, 'r', encoding='utf-8') as file:\n",
    "        return json.load(file)\n",
    "\n",
    "# Carga los datos\n",
    "tfidf_data = load_json(representations_files[3])\n",
    "word2vec_data = load_json(representations_files[0])\n",
    "additive_data = load_json(representations_files[1])\n",
    "mean_data = load_json(representations_files[2])"
   ]
  },
  {
   "cell_type": "code",
   "execution_count": 8,
   "metadata": {},
   "outputs": [],
   "source": [
    "# word2vec_data"
   ]
  }
 ],
 "metadata": {
  "kernelspec": {
   "display_name": "MachineLearning",
   "language": "python",
   "name": "python3"
  },
  "language_info": {
   "codemirror_mode": {
    "name": "ipython",
    "version": 3
   },
   "file_extension": ".py",
   "mimetype": "text/x-python",
   "name": "python",
   "nbconvert_exporter": "python",
   "pygments_lexer": "ipython3",
   "version": "3.10.14"
  }
 },
 "nbformat": 4,
 "nbformat_minor": 2
}
