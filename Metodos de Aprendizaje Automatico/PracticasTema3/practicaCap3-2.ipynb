{
 "cells": [
  {
   "cell_type": "code",
   "execution_count": 1,
   "metadata": {},
   "outputs": [
    {
     "name": "stdout",
     "output_type": "stream",
     "text": [
      "Soporte de cada género:\n",
      "Action         0.149227\n",
      "Adventure      0.080262\n",
      "Animation      0.024970\n",
      "Children's     0.072533\n",
      "Comedy         0.300238\n",
      "Crime          0.064804\n",
      "Documentary    0.029727\n",
      "Drama          0.431034\n",
      "Fantasy        0.013080\n",
      "Film-Noir      0.014269\n",
      "Horror         0.054697\n",
      "Musical        0.033294\n",
      "Mystery        0.036266\n",
      "Romance        0.146849\n",
      "Sci-Fi         0.060048\n",
      "Thriller       0.149227\n",
      "War            0.042212\n",
      "Western        0.016052\n",
      "unknown        0.001189\n",
      "dtype: float64\n"
     ]
    }
   ],
   "source": [
    "import pandas as pd\n",
    "import pdb\n",
    "from mlxtend.preprocessing import TransactionEncoder\n",
    "\n",
    "# Obtenemos los valores de cada columna\n",
    "genre_names = pd.read_csv('films_dataset/categories.csv', sep='|', header=None, names=['category','category_id'])\n",
    "\n",
    "# Declaramos los nombres de todas las columnas\n",
    "df_col_names = ['title', 'release_date', 'release_video_date', 'url'] + list(genre_names['category'].values)\n",
    "initial_df = pd.read_csv('films_dataset/films.csv', sep='|', header=None, names=df_col_names)\n",
    "\n",
    "# Declaramos que el indice sea la columna titulo\n",
    "initial_df.set_index(\"title\", inplace=True)\n",
    "\n",
    "# Convertimos los 1 y 0 en booleanos\n",
    "df = initial_df[list(genre_names['category'].values)].astype(bool)\n",
    "\n",
    "# Convertimos el DataFrame a una lista de transacciones\n",
    "transactions = df.apply(lambda row: row[row].index.tolist(), axis=1).tolist()\n",
    "\n",
    "# Instanciar el TransactionEncoder\n",
    "encoder = TransactionEncoder().fit(transactions)\n",
    "\n",
    "# One-hot encode las transacciones\n",
    "onehot = encoder.transform(transactions)\n",
    "\n",
    "# Convertimos a DataFrame\n",
    "onehot_df = pd.DataFrame(onehot, columns=encoder.columns_)\n",
    "\n",
    "# Calculamos el soporte (proporción de 1's por columna)\n",
    "support = onehot_df.mean()\n",
    "\n",
    "# pdb.set_trace()\n",
    "supportRomance = onehot_df['Romance'].mean()\n",
    "supportDrama = onehot_df['Drama'].mean()\n",
    "supportAction = onehot_df['Action'].mean()\n",
    "\n",
    "supportAdventure = onehot_df['Adventure'].mean()\n",
    "supportCrime = onehot_df['Crime'].mean()\n",
    "\n",
    "supportChildrens = onehot_df['Children\\'s'].mean()\n",
    "\n",
    "# Mostrar el soporte para cada genero\n",
    "print(\"Soporte de cada género:\")\n",
    "print(support)\n",
    "\n",
    "# pdb.set_trace()\n",
    "#-----------------------------------------------\n",
    "# total_transactions_that_appears_romance = onehot_df['Romance']\n",
    "\n"
   ]
  },
  {
   "cell_type": "code",
   "execution_count": 2,
   "metadata": {},
   "outputs": [
    {
     "data": {
      "text/plain": [
       "1682"
      ]
     },
     "execution_count": 2,
     "metadata": {},
     "output_type": "execute_result"
    }
   ],
   "source": [
    "len(transactions)"
   ]
  },
  {
   "cell_type": "code",
   "execution_count": 3,
   "metadata": {},
   "outputs": [
    {
     "data": {
      "text/plain": [
       "False    1435\n",
       "True      247\n",
       "Name: Romance, dtype: int64"
      ]
     },
     "execution_count": 3,
     "metadata": {},
     "output_type": "execute_result"
    }
   ],
   "source": [
    "onehot_df['Romance'].value_counts()"
   ]
  },
  {
   "cell_type": "code",
   "execution_count": 4,
   "metadata": {},
   "outputs": [],
   "source": [
    "# Funciona manual\n",
    "def calculate_support(column_name, total_transactions):\n",
    "    total_transaction_column_name = onehot_df[column_name].value_counts().to_dict()[True]\n",
    "    return total_transaction_column_name / total_transactions"
   ]
  },
  {
   "cell_type": "code",
   "execution_count": 11,
   "metadata": {},
   "outputs": [],
   "source": [
    "def calculate_joint_support(columns, total_transactions):\n",
    "    total_joint_transactions = onehot_df[columns].all(axis=1).sum()\n",
    "    return total_joint_transactions / total_transactions"
   ]
  },
  {
   "cell_type": "code",
   "execution_count": 12,
   "metadata": {},
   "outputs": [],
   "source": [
    "def aparicion_total_transactions(transactions, X, Y):\n",
    "    transactions_X_and_Y = sum(1 for transaction in transactions if X in transaction and Y in transaction)\n",
    "    return transactions_X_and_Y"
   ]
  },
  {
   "cell_type": "code",
   "execution_count": 13,
   "metadata": {},
   "outputs": [
    {
     "data": {
      "text/plain": [
       "99"
      ]
     },
     "execution_count": 13,
     "metadata": {},
     "output_type": "execute_result"
    }
   ],
   "source": [
    "aparicion_total_transactions(transactions, 'Romance', 'Drama')"
   ]
  },
  {
   "cell_type": "code",
   "execution_count": 14,
   "metadata": {},
   "outputs": [
    {
     "data": {
      "text/plain": [
       "0.058858501783590964"
      ]
     },
     "execution_count": 14,
     "metadata": {},
     "output_type": "execute_result"
    }
   ],
   "source": [
    "aparicion_total_transactions(transactions, 'Romance', 'Drama') / len(transactions)"
   ]
  },
  {
   "cell_type": "code",
   "execution_count": 15,
   "metadata": {},
   "outputs": [
    {
     "data": {
      "text/plain": [
       "8.730617675294543e-05"
      ]
     },
     "execution_count": 15,
     "metadata": {},
     "output_type": "execute_result"
    }
   ],
   "source": [
    "calculate_support(['Romance'], len(transactions))"
   ]
  },
  {
   "cell_type": "code",
   "execution_count": 16,
   "metadata": {},
   "outputs": [
    {
     "data": {
      "text/plain": [
       "0.14684898929845422"
      ]
     },
     "execution_count": 16,
     "metadata": {},
     "output_type": "execute_result"
    }
   ],
   "source": [
    "# Ejemplo de calcular el soporte\n",
    "total_transaction_romace = onehot_df['Romance'].value_counts().to_dict()[True]\n",
    "supportR = total_transaction_romace / len(onehot_df['Romance'])\n",
    "supportR"
   ]
  },
  {
   "cell_type": "code",
   "execution_count": 17,
   "metadata": {},
   "outputs": [
    {
     "data": {
      "text/plain": [
       "0.43103448275862066"
      ]
     },
     "execution_count": 17,
     "metadata": {},
     "output_type": "execute_result"
    }
   ],
   "source": [
    "total_transaction_drama = onehot_df['Drama'].value_counts().to_dict()[True]\n",
    "support = total_transaction_drama / len(onehot_df['Drama'])\n",
    "support"
   ]
  },
  {
   "cell_type": "code",
   "execution_count": 18,
   "metadata": {},
   "outputs": [
    {
     "data": {
      "text/plain": [
       "0.5778834720570749"
      ]
     },
     "execution_count": 18,
     "metadata": {},
     "output_type": "execute_result"
    }
   ],
   "source": [
    "support_romance_drama = (total_transaction_drama + total_transaction_romace) / 1682 \n",
    "support_romance_drama"
   ]
  },
  {
   "cell_type": "code",
   "execution_count": 21,
   "metadata": {},
   "outputs": [
    {
     "data": {
      "text/plain": [
       "0.058858501783590964"
      ]
     },
     "execution_count": 21,
     "metadata": {},
     "output_type": "execute_result"
    }
   ],
   "source": [
    "support_romance_drama = onehot_df[[\"Romance\", \"Drama\"]].all(axis=1).mean()\n",
    "support_romance_drama\n"
   ]
  },
  {
   "cell_type": "code",
   "execution_count": null,
   "metadata": {},
   "outputs": [],
   "source": [
    "calculate_joint_support(['Romance', 'Drama'], len(transactions))"
   ]
  },
  {
   "cell_type": "code",
   "execution_count": 22,
   "metadata": {},
   "outputs": [
    {
     "data": {
      "text/plain": [
       "0       False\n",
       "1       False\n",
       "2       False\n",
       "3       False\n",
       "4       False\n",
       "        ...  \n",
       "1677    False\n",
       "1678    False\n",
       "1679     True\n",
       "1680    False\n",
       "1681    False\n",
       "Length: 1682, dtype: bool"
      ]
     },
     "execution_count": 22,
     "metadata": {},
     "output_type": "execute_result"
    }
   ],
   "source": [
    "onehot_df[[\"Romance\", \"Drama\"]].all(axis=1)"
   ]
  }
 ],
 "metadata": {
  "kernelspec": {
   "display_name": "MachineLearning",
   "language": "python",
   "name": "python3"
  },
  "language_info": {
   "codemirror_mode": {
    "name": "ipython",
    "version": 3
   },
   "file_extension": ".py",
   "mimetype": "text/x-python",
   "name": "python",
   "nbconvert_exporter": "python",
   "pygments_lexer": "ipython3",
   "version": "3.10.14"
  }
 },
 "nbformat": 4,
 "nbformat_minor": 2
}
